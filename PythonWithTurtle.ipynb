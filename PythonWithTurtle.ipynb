{
  "nbformat": 4,
  "nbformat_minor": 0,
  "metadata": {
    "colab": {
      "name": "PythonWithTurtle.ipynb",
      "provenance": [],
      "authorship_tag": "ABX9TyOy8mg91TDL103eT6weMW8y",
      "include_colab_link": true
    },
    "kernelspec": {
      "name": "python3",
      "display_name": "Python 3"
    }
  },
  "cells": [
    {
      "cell_type": "markdown",
      "metadata": {
        "id": "view-in-github",
        "colab_type": "text"
      },
      "source": [
        "<a href=\"https://colab.research.google.com/github/young-hwanlee/Python-with-Turtle/blob/main/PythonWithTurtle.ipynb\" target=\"_parent\"><img src=\"https://colab.research.google.com/assets/colab-badge.svg\" alt=\"Open In Colab\"/></a>"
      ]
    },
    {
      "cell_type": "code",
      "metadata": {
        "colab": {
          "base_uri": "https://localhost:8080/"
        },
        "id": "mpHOla-QUoij",
        "outputId": "c615723f-b426-46c8-a366-36f2bfd27c6e"
      },
      "source": [
        "!git clone https://github.com/young-hwanlee/Python-with-Turtle.git"
      ],
      "execution_count": 1,
      "outputs": [
        {
          "output_type": "stream",
          "text": [
            "Cloning into 'Python-with-Turtle'...\n",
            "remote: Enumerating objects: 3, done.\u001b[K\n",
            "remote: Counting objects: 100% (3/3), done.\u001b[K\n",
            "remote: Total 3 (delta 0), reused 0 (delta 0), pack-reused 0\u001b[K\n",
            "Unpacking objects: 100% (3/3), done.\n"
          ],
          "name": "stdout"
        }
      ]
    },
    {
      "cell_type": "markdown",
      "metadata": {
        "id": "jmzwBWFtheS9"
      },
      "source": [
        "# **1. 소개**"
      ]
    },
    {
      "cell_type": "code",
      "metadata": {
        "colab": {
          "base_uri": "https://localhost:8080/"
        },
        "id": "r9Gy_r_dfxU3",
        "outputId": "07c3fde3-88c4-4ae8-cc2f-d16ecabb3282"
      },
      "source": [
        "print(\"Hello\")"
      ],
      "execution_count": 1,
      "outputs": [
        {
          "output_type": "stream",
          "text": [
            "Hello\n"
          ],
          "name": "stdout"
        }
      ]
    },
    {
      "cell_type": "code",
      "metadata": {
        "colab": {
          "base_uri": "https://localhost:8080/"
        },
        "id": "n681lRJshEv6",
        "outputId": "50aa5da4-b8ef-4dca-af44-a97a8f1c9333"
      },
      "source": [
        "print(\"Hello\", 23, \"OK\")"
      ],
      "execution_count": 2,
      "outputs": [
        {
          "output_type": "stream",
          "text": [
            "Hello 23 OK\n"
          ],
          "name": "stdout"
        }
      ]
    },
    {
      "cell_type": "code",
      "metadata": {
        "colab": {
          "base_uri": "https://localhost:8080/"
        },
        "id": "9fCqtE4HhQjO",
        "outputId": "9fafe309-bd3e-45ce-8be8-f79f63950418"
      },
      "source": [
        "print(23+45)"
      ],
      "execution_count": 3,
      "outputs": [
        {
          "output_type": "stream",
          "text": [
            "68\n"
          ],
          "name": "stdout"
        }
      ]
    },
    {
      "cell_type": "code",
      "metadata": {
        "colab": {
          "base_uri": "https://localhost:8080/"
        },
        "id": "a7hXNrYghSdY",
        "outputId": "df0ce72c-6991-4ca5-8d49-67df3903715d"
      },
      "source": [
        "print(124/4)"
      ],
      "execution_count": 4,
      "outputs": [
        {
          "output_type": "stream",
          "text": [
            "31.0\n"
          ],
          "name": "stdout"
        }
      ]
    },
    {
      "cell_type": "markdown",
      "metadata": {
        "id": "LZM5NYU-had1"
      },
      "source": [
        "# **2. 입출력과 변수**"
      ]
    },
    {
      "cell_type": "code",
      "metadata": {
        "colab": {
          "base_uri": "https://localhost:8080/"
        },
        "id": "IsujyawFitL-",
        "outputId": "1c9daf8c-bd11-49dc-fa39-90ef047a9733"
      },
      "source": [
        "print(\"Hello\", 1, \"OK\", 3+4)"
      ],
      "execution_count": 5,
      "outputs": [
        {
          "output_type": "stream",
          "text": [
            "Hello 1 OK 7\n"
          ],
          "name": "stdout"
        }
      ]
    },
    {
      "cell_type": "code",
      "metadata": {
        "colab": {
          "base_uri": "https://localhost:8080/",
          "height": 53
        },
        "id": "wf8Ma00sjGjj",
        "outputId": "0ac226b7-f735-4e7e-f995-0383993815fc"
      },
      "source": [
        "input(\"What is your age?\")"
      ],
      "execution_count": 6,
      "outputs": [
        {
          "output_type": "stream",
          "text": [
            "What is your age?20\n"
          ],
          "name": "stdout"
        },
        {
          "output_type": "execute_result",
          "data": {
            "application/vnd.google.colaboratory.intrinsic+json": {
              "type": "string"
            },
            "text/plain": [
              "'20'"
            ]
          },
          "metadata": {
            "tags": []
          },
          "execution_count": 6
        }
      ]
    },
    {
      "cell_type": "code",
      "metadata": {
        "colab": {
          "base_uri": "https://localhost:8080/",
          "height": 136
        },
        "id": "oxPKIjQAjW4x",
        "outputId": "860f31d2-4158-472c-a5c1-76505905b736"
      },
      "source": [
        "print(\"OK\", ?, \"Good age!\")"
      ],
      "execution_count": 7,
      "outputs": [
        {
          "output_type": "error",
          "ename": "SyntaxError",
          "evalue": "ignored",
          "traceback": [
            "\u001b[0;36m  File \u001b[0;32m\"<ipython-input-7-8693c8a8e910>\"\u001b[0;36m, line \u001b[0;32m1\u001b[0m\n\u001b[0;31m    print(\"OK\", ?, \"Good age!\")\u001b[0m\n\u001b[0m                ^\u001b[0m\n\u001b[0;31mSyntaxError\u001b[0m\u001b[0;31m:\u001b[0m invalid syntax\n"
          ]
        }
      ]
    },
    {
      "cell_type": "code",
      "metadata": {
        "colab": {
          "base_uri": "https://localhost:8080/"
        },
        "id": "YCYUnfsaj2Tb",
        "outputId": "2c400ae2-62f0-41b5-9977-9f3e3f318959"
      },
      "source": [
        "age = input(\"What is your age?\")"
      ],
      "execution_count": 8,
      "outputs": [
        {
          "output_type": "stream",
          "text": [
            "What is your age?20\n"
          ],
          "name": "stdout"
        }
      ]
    },
    {
      "cell_type": "code",
      "metadata": {
        "colab": {
          "base_uri": "https://localhost:8080/"
        },
        "id": "oVoQsKk4kG3t",
        "outputId": "ba698aa4-2bee-43e2-9b69-c8f41e41eec7"
      },
      "source": [
        "print(\"OK\", age, \"Good age\")"
      ],
      "execution_count": 9,
      "outputs": [
        {
          "output_type": "stream",
          "text": [
            "OK 20 Good age\n"
          ],
          "name": "stdout"
        }
      ]
    },
    {
      "cell_type": "code",
      "metadata": {
        "colab": {
          "base_uri": "https://localhost:8080/"
        },
        "id": "txNpAqjNkTbd",
        "outputId": "53702b7c-6462-4ddb-8c91-5f6327edf953"
      },
      "source": [
        "print(age, \"is good!\")"
      ],
      "execution_count": 10,
      "outputs": [
        {
          "output_type": "stream",
          "text": [
            "20 is good!\n"
          ],
          "name": "stdout"
        }
      ]
    },
    {
      "cell_type": "code",
      "metadata": {
        "colab": {
          "base_uri": "https://localhost:8080/",
          "height": 172
        },
        "id": "5FRM883ckWVA",
        "outputId": "33cfd85a-52f9-4c64-9bf5-4a055d2866de"
      },
      "source": [
        "print(\"Now\", age+1, \"old!\")"
      ],
      "execution_count": 11,
      "outputs": [
        {
          "output_type": "error",
          "ename": "TypeError",
          "evalue": "ignored",
          "traceback": [
            "\u001b[0;31m---------------------------------------------------------------------------\u001b[0m",
            "\u001b[0;31mTypeError\u001b[0m                                 Traceback (most recent call last)",
            "\u001b[0;32m<ipython-input-11-96d7f09d57e1>\u001b[0m in \u001b[0;36m<module>\u001b[0;34m()\u001b[0m\n\u001b[0;32m----> 1\u001b[0;31m \u001b[0mprint\u001b[0m\u001b[0;34m(\u001b[0m\u001b[0;34m\"Now\"\u001b[0m\u001b[0;34m,\u001b[0m \u001b[0mage\u001b[0m\u001b[0;34m+\u001b[0m\u001b[0;36m1\u001b[0m\u001b[0;34m,\u001b[0m \u001b[0;34m\"old!\"\u001b[0m\u001b[0;34m)\u001b[0m\u001b[0;34m\u001b[0m\u001b[0;34m\u001b[0m\u001b[0m\n\u001b[0m",
            "\u001b[0;31mTypeError\u001b[0m: can only concatenate str (not \"int\") to str"
          ]
        }
      ]
    },
    {
      "cell_type": "code",
      "metadata": {
        "colab": {
          "base_uri": "https://localhost:8080/",
          "height": 172
        },
        "id": "fhXaCP8IoqQW",
        "outputId": "2138a663-18eb-4c00-b50a-d34e94497cc2"
      },
      "source": [
        "\"20\" + 1"
      ],
      "execution_count": 13,
      "outputs": [
        {
          "output_type": "error",
          "ename": "TypeError",
          "evalue": "ignored",
          "traceback": [
            "\u001b[0;31m---------------------------------------------------------------------------\u001b[0m",
            "\u001b[0;31mTypeError\u001b[0m                                 Traceback (most recent call last)",
            "\u001b[0;32m<ipython-input-13-4934d110e5a7>\u001b[0m in \u001b[0;36m<module>\u001b[0;34m()\u001b[0m\n\u001b[0;32m----> 1\u001b[0;31m \u001b[0;34m\"20\"\u001b[0m \u001b[0;34m+\u001b[0m \u001b[0;36m1\u001b[0m\u001b[0;34m\u001b[0m\u001b[0;34m\u001b[0m\u001b[0m\n\u001b[0m",
            "\u001b[0;31mTypeError\u001b[0m: can only concatenate str (not \"int\") to str"
          ]
        }
      ]
    },
    {
      "cell_type": "code",
      "metadata": {
        "colab": {
          "base_uri": "https://localhost:8080/"
        },
        "id": "U01qxdVRoz_f",
        "outputId": "1d14019b-707f-4f06-f0fa-5ef2a5067781"
      },
      "source": [
        "int(\"20\")"
      ],
      "execution_count": 14,
      "outputs": [
        {
          "output_type": "execute_result",
          "data": {
            "text/plain": [
              "20"
            ]
          },
          "metadata": {
            "tags": []
          },
          "execution_count": 14
        }
      ]
    },
    {
      "cell_type": "code",
      "metadata": {
        "colab": {
          "base_uri": "https://localhost:8080/"
        },
        "id": "wmdur-W5pXA0",
        "outputId": "afb27f68-4e61-4f40-bd18-b567573b4bac"
      },
      "source": [
        "int(\"20\") + 1"
      ],
      "execution_count": 15,
      "outputs": [
        {
          "output_type": "execute_result",
          "data": {
            "text/plain": [
              "21"
            ]
          },
          "metadata": {
            "tags": []
          },
          "execution_count": 15
        }
      ]
    },
    {
      "cell_type": "code",
      "metadata": {
        "colab": {
          "base_uri": "https://localhost:8080/",
          "height": 53
        },
        "id": "J1ar5unOpZ46",
        "outputId": "3693d46e-528f-4936-ba58-5294e19d5421"
      },
      "source": [
        " input(\"age?\")"
      ],
      "execution_count": 16,
      "outputs": [
        {
          "output_type": "stream",
          "text": [
            "age?20\n"
          ],
          "name": "stdout"
        },
        {
          "output_type": "execute_result",
          "data": {
            "application/vnd.google.colaboratory.intrinsic+json": {
              "type": "string"
            },
            "text/plain": [
              "'20'"
            ]
          },
          "metadata": {
            "tags": []
          },
          "execution_count": 16
        }
      ]
    },
    {
      "cell_type": "code",
      "metadata": {
        "colab": {
          "base_uri": "https://localhost:8080/"
        },
        "id": "Fiwmfjl4peJ7",
        "outputId": "70ba1570-5392-4df8-9a8a-654ba26e0a2b"
      },
      "source": [
        "age = input(\"age?\")"
      ],
      "execution_count": 17,
      "outputs": [
        {
          "output_type": "stream",
          "text": [
            "age?20\n"
          ],
          "name": "stdout"
        }
      ]
    },
    {
      "cell_type": "code",
      "metadata": {
        "id": "Kv9p2LkPpr9y"
      },
      "source": [
        "age_i = int(age)"
      ],
      "execution_count": 18,
      "outputs": []
    },
    {
      "cell_type": "code",
      "metadata": {
        "colab": {
          "base_uri": "https://localhost:8080/"
        },
        "id": "dGpquDg1puui",
        "outputId": "a26eb38d-935a-4f77-f1cd-44f9c6ecd6e0"
      },
      "source": [
        "print(\"Now you are\", age_i + 1, \"old!\")"
      ],
      "execution_count": 19,
      "outputs": [
        {
          "output_type": "stream",
          "text": [
            "Now you are 21 old!\n"
          ],
          "name": "stdout"
        }
      ]
    },
    {
      "cell_type": "code",
      "metadata": {
        "colab": {
          "base_uri": "https://localhost:8080/"
        },
        "id": "08Zj53UdqDnn",
        "outputId": "46bd604c-f587-4ac1-ca8f-cade5895df16"
      },
      "source": [
        "print(\"Born in\", 1991, \"I love PI\", 3.14)"
      ],
      "execution_count": 20,
      "outputs": [
        {
          "output_type": "stream",
          "text": [
            "Born in 1991 I love PI 3.14\n"
          ],
          "name": "stdout"
        }
      ]
    },
    {
      "cell_type": "code",
      "metadata": {
        "colab": {
          "base_uri": "https://localhost:8080/"
        },
        "id": "R3D81gqsqLhY",
        "outputId": "38bbfd4c-9c13-4635-9a12-a72ebe3f3155"
      },
      "source": [
        "type(\"Born in\")"
      ],
      "execution_count": 21,
      "outputs": [
        {
          "output_type": "execute_result",
          "data": {
            "text/plain": [
              "str"
            ]
          },
          "metadata": {
            "tags": []
          },
          "execution_count": 21
        }
      ]
    },
    {
      "cell_type": "code",
      "metadata": {
        "colab": {
          "base_uri": "https://localhost:8080/"
        },
        "id": "O0OUpWmxqWbd",
        "outputId": "3ca86daf-b3e4-4f86-eef8-93b207a2e004"
      },
      "source": [
        "type(1991)"
      ],
      "execution_count": 22,
      "outputs": [
        {
          "output_type": "execute_result",
          "data": {
            "text/plain": [
              "int"
            ]
          },
          "metadata": {
            "tags": []
          },
          "execution_count": 22
        }
      ]
    },
    {
      "cell_type": "code",
      "metadata": {
        "colab": {
          "base_uri": "https://localhost:8080/"
        },
        "id": "1SWvyG-TqZSr",
        "outputId": "1972fa7c-28f4-4d21-ad08-725b33b9d7a4"
      },
      "source": [
        "type(3.14)"
      ],
      "execution_count": 23,
      "outputs": [
        {
          "output_type": "execute_result",
          "data": {
            "text/plain": [
              "float"
            ]
          },
          "metadata": {
            "tags": []
          },
          "execution_count": 23
        }
      ]
    },
    {
      "cell_type": "code",
      "metadata": {
        "id": "MK9hstU0qzZu"
      },
      "source": [
        "import random"
      ],
      "execution_count": 24,
      "outputs": []
    },
    {
      "cell_type": "code",
      "metadata": {
        "id": "OrmKkwGJq0Yx"
      },
      "source": [
        "i = random.randint(1, 10)"
      ],
      "execution_count": 25,
      "outputs": []
    },
    {
      "cell_type": "code",
      "metadata": {
        "colab": {
          "base_uri": "https://localhost:8080/"
        },
        "id": "ZodXcdclq0lB",
        "outputId": "88eba4c5-2ba4-4c4e-fe68-e7c37177f5cd"
      },
      "source": [
        "print(i)"
      ],
      "execution_count": 26,
      "outputs": [
        {
          "output_type": "stream",
          "text": [
            "5\n"
          ],
          "name": "stdout"
        }
      ]
    },
    {
      "cell_type": "code",
      "metadata": {
        "colab": {
          "base_uri": "https://localhost:8080/"
        },
        "id": "L8X92ooVq0vo",
        "outputId": "2f30bbc3-4a0d-43b5-a026-407bd6db049e"
      },
      "source": [
        "print(random.randint(1, 10))"
      ],
      "execution_count": 27,
      "outputs": [
        {
          "output_type": "stream",
          "text": [
            "9\n"
          ],
          "name": "stdout"
        }
      ]
    },
    {
      "cell_type": "code",
      "metadata": {
        "colab": {
          "base_uri": "https://localhost:8080/"
        },
        "id": "EawAoyyoq9me",
        "outputId": "7852bffd-38e3-40f3-bf59-8559903254ab"
      },
      "source": [
        "print(random.randint(1, 10))"
      ],
      "execution_count": 28,
      "outputs": [
        {
          "output_type": "stream",
          "text": [
            "1\n"
          ],
          "name": "stdout"
        }
      ]
    },
    {
      "cell_type": "code",
      "metadata": {
        "colab": {
          "base_uri": "https://localhost:8080/"
        },
        "id": "maMFbSgiq9vw",
        "outputId": "e6cb86bc-3b9d-485d-8279-10485be7bbbb"
      },
      "source": [
        "print(random.randint(1, 10))"
      ],
      "execution_count": 29,
      "outputs": [
        {
          "output_type": "stream",
          "text": [
            "5\n"
          ],
          "name": "stdout"
        }
      ]
    },
    {
      "cell_type": "code",
      "metadata": {
        "colab": {
          "base_uri": "https://localhost:8080/"
        },
        "id": "BC9JR5d1q92y",
        "outputId": "a5a029d1-e0fd-4114-91a7-c26a8c87aa91"
      },
      "source": [
        "print(random.randint(1, 10))"
      ],
      "execution_count": 30,
      "outputs": [
        {
          "output_type": "stream",
          "text": [
            "9\n"
          ],
          "name": "stdout"
        }
      ]
    },
    {
      "cell_type": "code",
      "metadata": {
        "colab": {
          "base_uri": "https://localhost:8080/"
        },
        "id": "g7taJqAxq99c",
        "outputId": "47620641-4de3-4371-933e-eef5dd2b36af"
      },
      "source": [
        "print(\"Now you are\", age_i + random.randint(1, 3), \"old!\")"
      ],
      "execution_count": 37,
      "outputs": [
        {
          "output_type": "stream",
          "text": [
            "Now you are 23 old!\n"
          ],
          "name": "stdout"
        }
      ]
    },
    {
      "cell_type": "code",
      "metadata": {
        "colab": {
          "base_uri": "https://localhost:8080/"
        },
        "id": "tuyAHTckr1lP",
        "outputId": "0c915ce7-6739-4022-81ab-4e49bcf46416"
      },
      "source": [
        "print(\"Now you are\", age_i + random.randint(1, 3), \"old!\")"
      ],
      "execution_count": 38,
      "outputs": [
        {
          "output_type": "stream",
          "text": [
            "Now you are 22 old!\n"
          ],
          "name": "stdout"
        }
      ]
    },
    {
      "cell_type": "code",
      "metadata": {
        "colab": {
          "base_uri": "https://localhost:8080/"
        },
        "id": "YnsDapWiremY",
        "outputId": "29423478-70a9-45d9-f2fc-803955ad476f"
      },
      "source": [
        "print(\"Now you are\", age_i + random.randint(1, 3), \"old!\")"
      ],
      "execution_count": 39,
      "outputs": [
        {
          "output_type": "stream",
          "text": [
            "Now you are 22 old!\n"
          ],
          "name": "stdout"
        }
      ]
    },
    {
      "cell_type": "markdown",
      "metadata": {
        "id": "LFAsLbe2h1mc"
      },
      "source": [
        "# **3. Turtle Graphics**"
      ]
    },
    {
      "cell_type": "code",
      "metadata": {
        "colab": {
          "base_uri": "https://localhost:8080/"
        },
        "id": "62nVLBtEr4HH",
        "outputId": "ac74963d-5e9e-4e94-ae29-85af7d21a0be"
      },
      "source": [
        "print(\"Now you are\", age_i + random.randint(1, 3), \"old!\")"
      ],
      "execution_count": 40,
      "outputs": [
        {
          "output_type": "stream",
          "text": [
            "Now you are 23 old!\n"
          ],
          "name": "stdout"
        }
      ]
    },
    {
      "cell_type": "code",
      "metadata": {
        "id": "_8bXCSdWkLvF"
      },
      "source": [
        ""
      ],
      "execution_count": null,
      "outputs": []
    },
    {
      "cell_type": "markdown",
      "metadata": {
        "id": "I3-RAn5kh9D-"
      },
      "source": [
        "# **4. if condition**"
      ]
    },
    {
      "cell_type": "code",
      "metadata": {
        "id": "wfVP3QAXkMHe"
      },
      "source": [
        ""
      ],
      "execution_count": null,
      "outputs": []
    },
    {
      "cell_type": "markdown",
      "metadata": {
        "id": "N7L4k630iAN0"
      },
      "source": [
        "# **5. Loop**"
      ]
    },
    {
      "cell_type": "code",
      "metadata": {
        "id": "IqkKQZztkMs0"
      },
      "source": [
        ""
      ],
      "execution_count": null,
      "outputs": []
    },
    {
      "cell_type": "markdown",
      "metadata": {
        "id": "1uloEjRuiC8U"
      },
      "source": [
        "# **6. Nested if/Loop**"
      ]
    },
    {
      "cell_type": "code",
      "metadata": {
        "id": "iAA21Ez1kNIb"
      },
      "source": [
        ""
      ],
      "execution_count": null,
      "outputs": []
    },
    {
      "cell_type": "markdown",
      "metadata": {
        "id": "9TQnNKOoiIoQ"
      },
      "source": [
        "# **7. For Loop**"
      ]
    },
    {
      "cell_type": "code",
      "metadata": {
        "id": "ubgGx1aTkNi-"
      },
      "source": [
        ""
      ],
      "execution_count": null,
      "outputs": []
    },
    {
      "cell_type": "markdown",
      "metadata": {
        "id": "tDll14AviLtD"
      },
      "source": [
        "# **8. Nest for Loop**"
      ]
    },
    {
      "cell_type": "code",
      "metadata": {
        "id": "mtWZWj7JkN4L"
      },
      "source": [
        ""
      ],
      "execution_count": null,
      "outputs": []
    },
    {
      "cell_type": "markdown",
      "metadata": {
        "id": "XR1Tx0eEiPXv"
      },
      "source": [
        "# **9. python LIST!**"
      ]
    },
    {
      "cell_type": "code",
      "metadata": {
        "id": "SoIzRBJgkOdW"
      },
      "source": [
        ""
      ],
      "execution_count": null,
      "outputs": []
    },
    {
      "cell_type": "markdown",
      "metadata": {
        "id": "hp30GdAciSbk"
      },
      "source": [
        "# **10. for+list와 break&continue**"
      ]
    },
    {
      "cell_type": "code",
      "metadata": {
        "id": "DsVDCkojh75N"
      },
      "source": [
        ""
      ],
      "execution_count": null,
      "outputs": []
    }
  ]
}